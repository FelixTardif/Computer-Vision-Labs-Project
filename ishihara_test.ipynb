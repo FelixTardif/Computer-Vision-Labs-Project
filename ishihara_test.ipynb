{
 "cells": [
  {
   "cell_type": "code",
   "execution_count": 1,
   "id": "d01c5d03-979b-4c7a-b3a9-61e53b3bcf67",
   "metadata": {},
   "outputs": [],
   "source": [
    "import numpy as np\n",
    "import cv2\n",
    "import matplotlib.pyplot as plt"
   ]
  },
  {
   "cell_type": "markdown",
   "id": "e433a88d-709b-489a-9b0a-e415bd8c8488",
   "metadata": {},
   "source": [
    "First & second steps : From Original colors to Black & White"
   ]
  },
  {
   "cell_type": "code",
   "execution_count": 2,
   "id": "89e0cd22-470f-4b49-9ad0-2d2be98b7240",
   "metadata": {},
   "outputs": [],
   "source": [
    "def Static_FromAColorToBlackAndWhite(file,threshold,blurKernel):\n",
    "    ishiharaPlanck = cv2.imread(file)\n",
    "    ishiharaPlanck_LAB = cv2.cvtColor(ishiharaPlanck, cv2.COLOR_RGB2LAB)    #from RGB to LAB colorspace\n",
    "    \n",
    "    _,A,_ = cv2.split(ishiharaPlanck_LAB)                                   # Only the A dimension for red & green colors\n",
    "    _,_,B = cv2.split(ishiharaPlanck_LAB)\n",
    "    \n",
    "    ret,binaryOutput = cv2.threshold(A,threshold,255,cv2.THRESH_BINARY)     # Usual threshold is 131\n",
    "    \n",
    "    morph_kernel = np.ones((8,8),np.uint8)                                              # why this kernel ?\n",
    "    img = cv2.morphologyEx(binaryOutput, cv2.MORPH_CLOSE, morph_kernel)                 # MORPH_CLOSE to eliminate the black spaces\n",
    "    img = cv2.medianBlur(img, blurKernel)                                        # MedianBlur in order to smoothen the output. !odd-number only for the blurKernel!\n",
    "    \n",
    "    cv2.imshow(\"Original Ishihara Planck\",ishiharaPlanck)\n",
    "    cv2.imshow(\"LAB Colorspace Ishihara Planck\",ishiharaPlanck_LAB)\n",
    "    cv2.imshow(\"Only -A- channel Ishihara Planck\",A)\n",
    "    cv2.imshow(\"Only -B- channel Ishihara Planck\",B)\n",
    "    cv2.imshow(\"Binary Ishihara Planck\",binaryOutput)\n",
    "    cv2.imshow(\"Smooth Black & White Ishihara Planck\",img)\n",
    "    cv2.waitKey(0)\n",
    "    cv2.destroyAllWindows()\n",
    "    \n",
    "\n",
    "    \n",
    "def Static_FromBColorToBlackAndWhite(file,threshold,blurKernel):\n",
    "    ishiharaPlanck = cv2.imread(file)\n",
    "    ishiharaPlanck_LAB = cv2.cvtColor(ishiharaPlanck, cv2.COLOR_RGB2LAB)    #from RGB to LAB colorspace\n",
    "    \n",
    "    _,A,_ = cv2.split(ishiharaPlanck_LAB)                                   \n",
    "    _,_,B = cv2.split(ishiharaPlanck_LAB)                                       # Only the B dimension for red & green colors\n",
    "    \n",
    "    ret,binaryOutput = cv2.threshold(B,threshold,255,cv2.THRESH_BINARY_INV)     # Usual threshold is 131\n",
    "    \n",
    "    morph_kernel = np.ones((8,8),np.uint8)                                              # why this kernel ?\n",
    "    img = cv2.morphologyEx(binaryOutput, cv2.MORPH_CLOSE, morph_kernel)                 # MORPH_CLOSE to eliminate the black spaces\n",
    "    img = cv2.medianBlur(img, blurKernel)                                           # MedianBlur in order to smoothen the output. !odd-number only for the blurKernel!\n",
    "    \n",
    "    cv2.imshow(\"Original Ishihara Planck\",ishiharaPlanck)\n",
    "    cv2.imshow(\"LAB Colorspace Ishihara Planck\",ishiharaPlanck_LAB)\n",
    "    cv2.imshow(\"Only -A- channel Ishihara Planck\",A)\n",
    "    cv2.imshow(\"Only -B- channel Ishihara Planck\",B)\n",
    "    cv2.imshow(\"Binary Ishihara Planck\",binaryOutput)\n",
    "    cv2.imshow(\"Smooth Black & White Ishihara Planck\",img)\n",
    "    cv2.waitKey(0)\n",
    "    cv2.destroyAllWindows()"
   ]
  },
  {
   "cell_type": "code",
   "execution_count": 3,
   "id": "42ae3f80-be0a-422e-8053-43df2304bdca",
   "metadata": {},
   "outputs": [],
   "source": [
    "Static_FromAColorToBlackAndWhite(\"ishihara_01.jpg\",131,11)\n",
    "Static_FromBColorToBlackAndWhite(\"ishihara_01.jpg\",102,11)"
   ]
  },
  {
   "cell_type": "code",
   "execution_count": 4,
   "id": "8d87c4ed-bb36-4fc3-b92c-796bf088f53c",
   "metadata": {},
   "outputs": [],
   "source": [
    "Static_FromAColorToBlackAndWhite(\"ishihara_02.jpg\",131,11)\n",
    "Static_FromBColorToBlackAndWhite(\"ishihara_02.jpg\",102,11)"
   ]
  },
  {
   "cell_type": "code",
   "execution_count": 5,
   "id": "3fc7573b-a9c9-441b-b0a8-ff5461e8117c",
   "metadata": {},
   "outputs": [],
   "source": [
    "Static_FromAColorToBlackAndWhite(\"Ishihara_07.jpg\",131,11)\n",
    "Static_FromBColorToBlackAndWhite(\"Ishihara_07.jpg\",102,11)"
   ]
  },
  {
   "cell_type": "code",
   "execution_count": 6,
   "id": "4b1b1663-31fa-467f-b544-4bf131469c98",
   "metadata": {},
   "outputs": [],
   "source": [
    "Static_FromAColorToBlackAndWhite(\"Ishihara_13.jpg\",131,11)\n",
    "Static_FromBColorToBlackAndWhite(\"Ishihara_13.jpg\",102,11)"
   ]
  },
  {
   "cell_type": "code",
   "execution_count": 7,
   "id": "1eea7a93-7e66-471d-8cbf-4063d9b68959",
   "metadata": {},
   "outputs": [],
   "source": [
    "Static_FromAColorToBlackAndWhite(\"Ishihara_17.jpg\",131,11)\n",
    "Static_FromBColorToBlackAndWhite(\"Ishihara_17.jpg\",102,11)"
   ]
  },
  {
   "cell_type": "code",
   "execution_count": 8,
   "id": "87338c6e-5355-40b2-a3a3-d3ac82bed570",
   "metadata": {},
   "outputs": [],
   "source": [
    "Static_FromAColorToBlackAndWhite(\"Ishihara_22.jpg\",131,11)\n",
    "Static_FromBColorToBlackAndWhite(\"Ishihara_22.jpg\",72,11)"
   ]
  },
  {
   "cell_type": "code",
   "execution_count": 14,
   "id": "2aee5522-9cd6-4831-af6a-f8c7bd3f6449",
   "metadata": {},
   "outputs": [],
   "source": [
    "# Feels free to try my functions with another plank :)"
   ]
  },
  {
   "cell_type": "markdown",
   "id": "93d392b2-543b-4d6a-aa4d-e9867da2b880",
   "metadata": {},
   "source": [
    "Third step : From a live video feed"
   ]
  },
  {
   "cell_type": "code",
   "execution_count": 13,
   "id": "c5b58d56-7d42-446d-902f-5b9c1aff408a",
   "metadata": {},
   "outputs": [],
   "source": [
    "def Dynamic_FromBColorToBlackAndWhite(threshold=102):\n",
    "    cam = cv2.VideoCapture(0)\n",
    "\n",
    "    while(True):\n",
    "        ret, frame = cam.read()\n",
    "        cv2.imshow(\"Cam\",frame)\n",
    "\n",
    "        if cv2.waitKey(1) == 27:                                              # Waiting for ESC to continue\n",
    "            break\n",
    "\n",
    "    cv2.destroyWindow(\"Cam\")\n",
    "\n",
    "    recorded_screen = cam.read()[1]\n",
    "    recorded_screen_LAB = cv2.cvtColor(recorded_screen,cv2.COLOR_RGB2LAB)\n",
    "\n",
    "    _,A,_ = cv2.split(recorded_screen_LAB)                                   # Only the A dimension for red & green colors\n",
    "    _,_,B = cv2.split(recorded_screen_LAB)                                   # Only the B dimension for blue & yellow colors\n",
    "\n",
    "    #ret,binaryOutputA = cv2.threshold(A,131,255,cv2.THRESH_BINARY          \n",
    "    ret,binaryOutputB = cv2.threshold(B,threshold,255,cv2.THRESH_BINARY_INV)\n",
    "\n",
    "    morph_kernel = np.ones((8,8),np.uint8)                                              # why this kernel ?\n",
    "    img = cv2.morphologyEx(binaryOutputB, cv2.MORPH_CLOSE, morph_kernel)                 # MORPH_CLOSE to eliminate the black spaces\n",
    "    img = cv2.medianBlur(img, 11)                                               # MedianBlur in order to smoothen the output. !odd-number only for the blurKernel!\n",
    "\n",
    "\n",
    "    cv2.imshow(\"Recorded from cam\",recorded_screen)\n",
    "    cv2.imshow(\"Recorded from cam LAB\",recorded_screen_LAB)\n",
    "    cv2.imshow(\"Only -A- channel Ishihara Planck\",A)\n",
    "    cv2.imshow(\"Only -B- channel Ishihara Planck\",B)\n",
    "    #cv2.imshow(\"Binary Ishihara Planck A\",binaryOutputA)\n",
    "    cv2.imshow(\"Binary Ishihara Planck B\",binaryOutputB)\n",
    "    cv2.imshow(\"Smooth Black & White Ishihara Planck\",img)\n",
    "\n",
    "    cv2.waitKey(0)\n",
    "    cv2.destroyAllWindows()\n",
    "\n",
    "    cv2.imshow(\"What we started with :\",recorded_screen)\n",
    "    cv2.imshow(\"What we end up with :\",img)\n",
    "    cv2.waitKey(0)\n",
    "    cv2.destroyAllWindows()\n",
    "    cam.release()"
   ]
  },
  {
   "cell_type": "code",
   "execution_count": 12,
   "id": "eb12af50-4d77-4651-aefd-d94a646daabd",
   "metadata": {},
   "outputs": [],
   "source": [
    "Dynamic_FromBColorToBlackAndWhite()"
   ]
  },
  {
   "cell_type": "markdown",
   "id": "40ba567d-9234-4abd-bba2-76a4da102e23",
   "metadata": {},
   "source": [
    "Bibliography : \n",
    "https://opencv24-python-tutorials.readthedocs.io/en/latest/py_tutorials/py_imgproc/py_morphological_ops/py_morphological_ops.html\n",
    "https://docs.opencv.org/4.x/d7/d4d/tutorial_py_thresholding.html\n",
    "https://en.wikipedia.org/wiki/CIELAB_color_space\n",
    "http://daltonien.free.fr/daltonien/article.php3?id_article=6\n",
    "https://en.wikipedia.org/wiki/Ishihara_test"
   ]
  }
 ],
 "metadata": {
  "kernelspec": {
   "display_name": "Python 3 (ipykernel)",
   "language": "python",
   "name": "python3"
  },
  "language_info": {
   "codemirror_mode": {
    "name": "ipython",
    "version": 3
   },
   "file_extension": ".py",
   "mimetype": "text/x-python",
   "name": "python",
   "nbconvert_exporter": "python",
   "pygments_lexer": "ipython3",
   "version": "3.10.2"
  }
 },
 "nbformat": 4,
 "nbformat_minor": 5
}
